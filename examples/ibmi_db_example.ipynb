{
 "cells": [
  {
   "cell_type": "code",
   "execution_count": 1,
   "metadata": {},
   "outputs": [
    {
     "data": {
      "text/plain": [
       "'0.0.2'"
      ]
     },
     "execution_count": 1,
     "metadata": {},
     "output_type": "execute_result"
    }
   ],
   "source": [
    "from importlib.metadata import version\n",
    "import ibmidb\n",
    "version('ibmidb')"
   ]
  },
  {
   "cell_type": "code",
   "execution_count": 2,
   "metadata": {},
   "outputs": [
    {
     "name": "stderr",
     "output_type": "stream",
     "text": [
      "c:\\Users\\6J3034897\\Anaconda3\\envs\\test-idb\\Lib\\site-packages\\paramiko\\transport.py:219: CryptographyDeprecationWarning: Blowfish has been deprecated\n",
      "  \"class\": algorithms.Blowfish,\n"
     ]
    }
   ],
   "source": [
    "from ibmidb.client import SSHClient, SQLJob\n",
    "import pandas as pd"
   ]
  },
  {
   "attachments": {},
   "cell_type": "markdown",
   "metadata": {},
   "source": [
    "## Create Client and establish connection "
   ]
  },
  {
   "cell_type": "code",
   "execution_count": 3,
   "metadata": {},
   "outputs": [
    {
     "name": "stdout",
     "output_type": "stream",
     "text": [
      "{'id': 'boop', 'job': '014299/QUSER/QZDASOINIT', 'success': True}\n"
     ]
    }
   ],
   "source": [
    "CONNECTION_DETAILS = {\n",
    "    'hostname': 'ut24p60',\n",
    "    'username': 'ashedivy'\n",
    "}\n",
    "\n",
    "client = SSHClient(CONNECTION_DETAILS)\n",
    "job = SQLJob(client)\n",
    "ret = job.connect()\n",
    "print(ret)"
   ]
  },
  {
   "attachments": {},
   "cell_type": "markdown",
   "metadata": {},
   "source": [
    "### Create driver function for running sql statements"
   ]
  },
  {
   "cell_type": "code",
   "execution_count": 4,
   "metadata": {},
   "outputs": [
    {
     "name": "stdout",
     "output_type": "stream",
     "text": [
      "[{'COLUMN_NAME': 'SRCSEQ', 'TABLE_NAME': 'QS36PRC', 'TABLE_OWNER': 'QSYS', 'ORDINAL_POSITION': 1, 'DATA_TYPE': 'NUMERIC', 'LENGTH': 6, 'NUMERIC_SCALE': 2, 'IS_NULLABLE': 'N', 'IS_UPDATABLE': 'Y', 'HAS_DEFAULT': 'Y', 'STORAGE': 6, 'NUMERIC_PRECISION': 6, 'TABLE_SCHEMA': '#CGULIB', 'COLUMN_DEFAULT': '0', 'NUMERIC_PRECISION_RADIX': 10, 'SYSTEM_COLUMN_NAME': 'SRCSEQ', 'SYSTEM_TABLE_NAME': 'QS36PRC', 'SYSTEM_TABLE_SCHEMA': '#CGULIB', 'IS_IDENTITY': 'NO', 'HIDDEN': 'N', 'HAS_FLDPROC': 'N'}, {'COLUMN_NAME': 'SRCDAT', 'TABLE_NAME': 'QS36PRC', 'TABLE_OWNER': 'QSYS', 'ORDINAL_POSITION': 2, 'DATA_TYPE': 'NUMERIC', 'LENGTH': 6, 'NUMERIC_SCALE': 0, 'IS_NULLABLE': 'N', 'IS_UPDATABLE': 'Y', 'HAS_DEFAULT': 'Y', 'STORAGE': 6, 'NUMERIC_PRECISION': 6, 'TABLE_SCHEMA': '#CGULIB', 'COLUMN_DEFAULT': '0', 'NUMERIC_PRECISION_RADIX': 10, 'SYSTEM_COLUMN_NAME': 'SRCDAT', 'SYSTEM_TABLE_NAME': 'QS36PRC', 'SYSTEM_TABLE_SCHEMA': '#CGULIB', 'IS_IDENTITY': 'NO', 'HIDDEN': 'N', 'HAS_FLDPROC': 'N'}, {'COLUMN_NAME': 'SRCDTA', 'TABLE_NAME': 'QS36PRC', 'TABLE_OWNER': 'QSYS', 'ORDINAL_POSITION': 3, 'DATA_TYPE': 'CHAR', 'LENGTH': 80, 'IS_NULLABLE': 'N', 'IS_UPDATABLE': 'Y', 'HAS_DEFAULT': 'Y', 'STORAGE': 80, 'CCSID': 65535, 'TABLE_SCHEMA': '#CGULIB', 'COLUMN_DEFAULT': \"' '\", 'CHARACTER_MAXIMUM_LENGTH': 80, 'CHARACTER_OCTET_LENGTH': 80, 'SYSTEM_COLUMN_NAME': 'SRCDTA', 'SYSTEM_TABLE_NAME': 'QS36PRC', 'SYSTEM_TABLE_SCHEMA': '#CGULIB', 'IS_IDENTITY': 'NO', 'HIDDEN': 'N', 'HAS_FLDPROC': 'N'}, {'COLUMN_NAME': 'SRCSEQ', 'TABLE_NAME': 'QSBLSRC', 'TABLE_OWNER': 'QSYS', 'ORDINAL_POSITION': 1, 'DATA_TYPE': 'NUMERIC', 'LENGTH': 6, 'NUMERIC_SCALE': 2, 'IS_NULLABLE': 'N', 'IS_UPDATABLE': 'Y', 'HAS_DEFAULT': 'Y', 'STORAGE': 6, 'NUMERIC_PRECISION': 6, 'TABLE_SCHEMA': '#COBLIB', 'COLUMN_DEFAULT': '0', 'NUMERIC_PRECISION_RADIX': 10, 'SYSTEM_COLUMN_NAME': 'SRCSEQ', 'SYSTEM_TABLE_NAME': 'QSBLSRC', 'SYSTEM_TABLE_SCHEMA': '#COBLIB', 'IS_IDENTITY': 'NO', 'HIDDEN': 'N', 'HAS_FLDPROC': 'N'}, {'COLUMN_NAME': 'SRCDAT', 'TABLE_NAME': 'QSBLSRC', 'TABLE_OWNER': 'QSYS', 'ORDINAL_POSITION': 2, 'DATA_TYPE': 'NUMERIC', 'LENGTH': 6, 'NUMERIC_SCALE': 0, 'IS_NULLABLE': 'N', 'IS_UPDATABLE': 'Y', 'HAS_DEFAULT': 'Y', 'STORAGE': 6, 'NUMERIC_PRECISION': 6, 'TABLE_SCHEMA': '#COBLIB', 'COLUMN_DEFAULT': '0', 'NUMERIC_PRECISION_RADIX': 10, 'SYSTEM_COLUMN_NAME': 'SRCDAT', 'SYSTEM_TABLE_NAME': 'QSBLSRC', 'SYSTEM_TABLE_SCHEMA': '#COBLIB', 'IS_IDENTITY': 'NO', 'HIDDEN': 'N', 'HAS_FLDPROC': 'N'}]\n"
     ]
    }
   ],
   "source": [
    "def create_and_execute(sql: str = None, rows: int = None, conn=client, verbose=False):\n",
    "    if sql is None:\n",
    "        return\n",
    "    job = SQLJob(conn)\n",
    "    connection = job.connect()\n",
    "    if verbose:\n",
    "        print(f\"connection: {connection}\")\n",
    "\n",
    "    data = job.query(sql, rows=rows)\n",
    "    job.close()\n",
    "    return data\n",
    "\n",
    "\n",
    "rows = create_and_execute(sql='select * from qsys2.syscolumns', rows=5)\n",
    "print(rows)"
   ]
  },
  {
   "cell_type": "code",
   "execution_count": 5,
   "metadata": {},
   "outputs": [
    {
     "data": {
      "text/html": [
       "<div>\n",
       "<style scoped>\n",
       "    .dataframe tbody tr th:only-of-type {\n",
       "        vertical-align: middle;\n",
       "    }\n",
       "\n",
       "    .dataframe tbody tr th {\n",
       "        vertical-align: top;\n",
       "    }\n",
       "\n",
       "    .dataframe thead th {\n",
       "        text-align: right;\n",
       "    }\n",
       "</style>\n",
       "<table border=\"1\" class=\"dataframe\">\n",
       "  <thead>\n",
       "    <tr style=\"text-align: right;\">\n",
       "      <th></th>\n",
       "      <th>COLUMN_NAME</th>\n",
       "      <th>TABLE_NAME</th>\n",
       "      <th>TABLE_OWNER</th>\n",
       "      <th>ORDINAL_POSITION</th>\n",
       "      <th>DATA_TYPE</th>\n",
       "      <th>LENGTH</th>\n",
       "      <th>NUMERIC_SCALE</th>\n",
       "      <th>IS_NULLABLE</th>\n",
       "      <th>IS_UPDATABLE</th>\n",
       "      <th>HAS_DEFAULT</th>\n",
       "      <th>...</th>\n",
       "      <th>NUMERIC_PRECISION_RADIX</th>\n",
       "      <th>SYSTEM_COLUMN_NAME</th>\n",
       "      <th>SYSTEM_TABLE_NAME</th>\n",
       "      <th>SYSTEM_TABLE_SCHEMA</th>\n",
       "      <th>IS_IDENTITY</th>\n",
       "      <th>HIDDEN</th>\n",
       "      <th>HAS_FLDPROC</th>\n",
       "      <th>CCSID</th>\n",
       "      <th>CHARACTER_MAXIMUM_LENGTH</th>\n",
       "      <th>CHARACTER_OCTET_LENGTH</th>\n",
       "    </tr>\n",
       "  </thead>\n",
       "  <tbody>\n",
       "    <tr>\n",
       "      <th>0</th>\n",
       "      <td>SRCSEQ</td>\n",
       "      <td>QS36PRC</td>\n",
       "      <td>QSYS</td>\n",
       "      <td>1</td>\n",
       "      <td>NUMERIC</td>\n",
       "      <td>6</td>\n",
       "      <td>2.0</td>\n",
       "      <td>N</td>\n",
       "      <td>Y</td>\n",
       "      <td>Y</td>\n",
       "      <td>...</td>\n",
       "      <td>10.0</td>\n",
       "      <td>SRCSEQ</td>\n",
       "      <td>QS36PRC</td>\n",
       "      <td>#CGULIB</td>\n",
       "      <td>NO</td>\n",
       "      <td>N</td>\n",
       "      <td>N</td>\n",
       "      <td>NaN</td>\n",
       "      <td>NaN</td>\n",
       "      <td>NaN</td>\n",
       "    </tr>\n",
       "    <tr>\n",
       "      <th>1</th>\n",
       "      <td>SRCDAT</td>\n",
       "      <td>QS36PRC</td>\n",
       "      <td>QSYS</td>\n",
       "      <td>2</td>\n",
       "      <td>NUMERIC</td>\n",
       "      <td>6</td>\n",
       "      <td>0.0</td>\n",
       "      <td>N</td>\n",
       "      <td>Y</td>\n",
       "      <td>Y</td>\n",
       "      <td>...</td>\n",
       "      <td>10.0</td>\n",
       "      <td>SRCDAT</td>\n",
       "      <td>QS36PRC</td>\n",
       "      <td>#CGULIB</td>\n",
       "      <td>NO</td>\n",
       "      <td>N</td>\n",
       "      <td>N</td>\n",
       "      <td>NaN</td>\n",
       "      <td>NaN</td>\n",
       "      <td>NaN</td>\n",
       "    </tr>\n",
       "    <tr>\n",
       "      <th>2</th>\n",
       "      <td>SRCDTA</td>\n",
       "      <td>QS36PRC</td>\n",
       "      <td>QSYS</td>\n",
       "      <td>3</td>\n",
       "      <td>CHAR</td>\n",
       "      <td>80</td>\n",
       "      <td>NaN</td>\n",
       "      <td>N</td>\n",
       "      <td>Y</td>\n",
       "      <td>Y</td>\n",
       "      <td>...</td>\n",
       "      <td>NaN</td>\n",
       "      <td>SRCDTA</td>\n",
       "      <td>QS36PRC</td>\n",
       "      <td>#CGULIB</td>\n",
       "      <td>NO</td>\n",
       "      <td>N</td>\n",
       "      <td>N</td>\n",
       "      <td>65535.0</td>\n",
       "      <td>80.0</td>\n",
       "      <td>80.0</td>\n",
       "    </tr>\n",
       "    <tr>\n",
       "      <th>3</th>\n",
       "      <td>SRCSEQ</td>\n",
       "      <td>QSBLSRC</td>\n",
       "      <td>QSYS</td>\n",
       "      <td>1</td>\n",
       "      <td>NUMERIC</td>\n",
       "      <td>6</td>\n",
       "      <td>2.0</td>\n",
       "      <td>N</td>\n",
       "      <td>Y</td>\n",
       "      <td>Y</td>\n",
       "      <td>...</td>\n",
       "      <td>10.0</td>\n",
       "      <td>SRCSEQ</td>\n",
       "      <td>QSBLSRC</td>\n",
       "      <td>#COBLIB</td>\n",
       "      <td>NO</td>\n",
       "      <td>N</td>\n",
       "      <td>N</td>\n",
       "      <td>NaN</td>\n",
       "      <td>NaN</td>\n",
       "      <td>NaN</td>\n",
       "    </tr>\n",
       "    <tr>\n",
       "      <th>4</th>\n",
       "      <td>SRCDAT</td>\n",
       "      <td>QSBLSRC</td>\n",
       "      <td>QSYS</td>\n",
       "      <td>2</td>\n",
       "      <td>NUMERIC</td>\n",
       "      <td>6</td>\n",
       "      <td>0.0</td>\n",
       "      <td>N</td>\n",
       "      <td>Y</td>\n",
       "      <td>Y</td>\n",
       "      <td>...</td>\n",
       "      <td>10.0</td>\n",
       "      <td>SRCDAT</td>\n",
       "      <td>QSBLSRC</td>\n",
       "      <td>#COBLIB</td>\n",
       "      <td>NO</td>\n",
       "      <td>N</td>\n",
       "      <td>N</td>\n",
       "      <td>NaN</td>\n",
       "      <td>NaN</td>\n",
       "      <td>NaN</td>\n",
       "    </tr>\n",
       "  </tbody>\n",
       "</table>\n",
       "<p>5 rows × 24 columns</p>\n",
       "</div>"
      ],
      "text/plain": [
       "  COLUMN_NAME TABLE_NAME TABLE_OWNER  ORDINAL_POSITION DATA_TYPE  LENGTH  \\\n",
       "0      SRCSEQ    QS36PRC        QSYS                 1   NUMERIC       6   \n",
       "1      SRCDAT    QS36PRC        QSYS                 2   NUMERIC       6   \n",
       "2      SRCDTA    QS36PRC        QSYS                 3      CHAR      80   \n",
       "3      SRCSEQ    QSBLSRC        QSYS                 1   NUMERIC       6   \n",
       "4      SRCDAT    QSBLSRC        QSYS                 2   NUMERIC       6   \n",
       "\n",
       "   NUMERIC_SCALE IS_NULLABLE IS_UPDATABLE HAS_DEFAULT  ...  \\\n",
       "0            2.0           N            Y           Y  ...   \n",
       "1            0.0           N            Y           Y  ...   \n",
       "2            NaN           N            Y           Y  ...   \n",
       "3            2.0           N            Y           Y  ...   \n",
       "4            0.0           N            Y           Y  ...   \n",
       "\n",
       "   NUMERIC_PRECISION_RADIX  SYSTEM_COLUMN_NAME SYSTEM_TABLE_NAME  \\\n",
       "0                     10.0              SRCSEQ           QS36PRC   \n",
       "1                     10.0              SRCDAT           QS36PRC   \n",
       "2                      NaN              SRCDTA           QS36PRC   \n",
       "3                     10.0              SRCSEQ           QSBLSRC   \n",
       "4                     10.0              SRCDAT           QSBLSRC   \n",
       "\n",
       "  SYSTEM_TABLE_SCHEMA  IS_IDENTITY HIDDEN HAS_FLDPROC    CCSID  \\\n",
       "0             #CGULIB           NO      N           N      NaN   \n",
       "1             #CGULIB           NO      N           N      NaN   \n",
       "2             #CGULIB           NO      N           N  65535.0   \n",
       "3             #COBLIB           NO      N           N      NaN   \n",
       "4             #COBLIB           NO      N           N      NaN   \n",
       "\n",
       "  CHARACTER_MAXIMUM_LENGTH CHARACTER_OCTET_LENGTH  \n",
       "0                      NaN                    NaN  \n",
       "1                      NaN                    NaN  \n",
       "2                     80.0                   80.0  \n",
       "3                      NaN                    NaN  \n",
       "4                      NaN                    NaN  \n",
       "\n",
       "[5 rows x 24 columns]"
      ]
     },
     "execution_count": 5,
     "metadata": {},
     "output_type": "execute_result"
    }
   ],
   "source": [
    "df = pd.DataFrame(rows)\n",
    "df.head()"
   ]
  },
  {
   "cell_type": "code",
   "execution_count": 6,
   "metadata": {},
   "outputs": [
    {
     "data": {
      "text/html": [
       "<div>\n",
       "<style scoped>\n",
       "    .dataframe tbody tr th:only-of-type {\n",
       "        vertical-align: middle;\n",
       "    }\n",
       "\n",
       "    .dataframe tbody tr th {\n",
       "        vertical-align: top;\n",
       "    }\n",
       "\n",
       "    .dataframe thead th {\n",
       "        text-align: right;\n",
       "    }\n",
       "</style>\n",
       "<table border=\"1\" class=\"dataframe\">\n",
       "  <thead>\n",
       "    <tr style=\"text-align: right;\">\n",
       "      <th></th>\n",
       "      <th>AVERAGE_CPU_RATE</th>\n",
       "      <th>AVERAGE_CPU_UTILIZATION</th>\n",
       "      <th>MINIMUM_CPU_UTILIZATION</th>\n",
       "      <th>MAXIMUM_CPU_UTILIZATION</th>\n",
       "    </tr>\n",
       "  </thead>\n",
       "  <tbody>\n",
       "    <tr>\n",
       "      <th>0</th>\n",
       "      <td>100.0</td>\n",
       "      <td>0.77</td>\n",
       "      <td>0.0</td>\n",
       "      <td>0.0</td>\n",
       "    </tr>\n",
       "  </tbody>\n",
       "</table>\n",
       "</div>"
      ],
      "text/plain": [
       "   AVERAGE_CPU_RATE  AVERAGE_CPU_UTILIZATION  MINIMUM_CPU_UTILIZATION  \\\n",
       "0             100.0                     0.77                      0.0   \n",
       "\n",
       "   MAXIMUM_CPU_UTILIZATION  \n",
       "0                      0.0  "
      ]
     },
     "execution_count": 6,
     "metadata": {},
     "output_type": "execute_result"
    }
   ],
   "source": [
    "df = pd.DataFrame(create_and_execute(sql=\"SELECT * FROM TABLE(QSYS2.SYSTEM_ACTIVITY_INFO())\"))\n",
    "df.head()"
   ]
  },
  {
   "cell_type": "code",
   "execution_count": null,
   "metadata": {},
   "outputs": [],
   "source": []
  }
 ],
 "metadata": {
  "kernelspec": {
   "display_name": "test-idb",
   "language": "python",
   "name": "python3"
  },
  "language_info": {
   "codemirror_mode": {
    "name": "ipython",
    "version": 3
   },
   "file_extension": ".py",
   "mimetype": "text/x-python",
   "name": "python",
   "nbconvert_exporter": "python",
   "pygments_lexer": "ipython3",
   "version": "3.11.3"
  },
  "orig_nbformat": 4
 },
 "nbformat": 4,
 "nbformat_minor": 2
}
