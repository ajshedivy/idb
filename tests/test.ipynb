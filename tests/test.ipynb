{
 "cells": [
  {
   "cell_type": "code",
   "execution_count": 1,
   "metadata": {},
   "outputs": [
    {
     "name": "stderr",
     "output_type": "stream",
     "text": [
      "c:\\Users\\6J3034897\\Anaconda3\\envs\\idb\\Lib\\site-packages\\paramiko\\transport.py:219: CryptographyDeprecationWarning: Blowfish has been deprecated\n",
      "  \"class\": algorithms.Blowfish,\n"
     ]
    }
   ],
   "source": [
    "from ibmidb.client import SSHClient, SQLJob"
   ]
  },
  {
   "cell_type": "code",
   "execution_count": 2,
   "metadata": {},
   "outputs": [
    {
     "name": "stdout",
     "output_type": "stream",
     "text": [
      "{'id': 'boop', 'job': '013993/QUSER/QZDASOINIT', 'success': True}\n",
      "[{'AVERAGE_CPU_RATE': 66.66, 'AVERAGE_CPU_UTILIZATION': 0.38, 'MINIMUM_CPU_UTILIZATION': 0.0, 'MAXIMUM_CPU_UTILIZATION': 0.0}]\n"
     ]
    }
   ],
   "source": [
    "CONNECTION_DETAILS = {\"username\": \"ashedivy\", \"hostname\": \"ut24p60\"}\n",
    "client = SSHClient(CONNECTION_DETAILS)\n",
    "job = SQLJob(client)\n",
    "outstr = job.connect()\n",
    "print(outstr)\n",
    "sql = 'SELECT * FROM TABLE(QSYS2.SYSTEM_ACTIVITY_INFO())'\n",
    "res = job.query(sql)\n",
    "print(res)"
   ]
  },
  {
   "cell_type": "code",
   "execution_count": 3,
   "metadata": {},
   "outputs": [
    {
     "data": {
      "text/plain": [
       "[{'TOTAL_JOBS_IN_SYSTEM': 234,\n",
       "  'MAXIMUM_JOBS_IN_SYSTEM': 163520,\n",
       "  'ACTIVE_JOBS_IN_SYSTEM': 207,\n",
       "  'INTERACTIVE_JOBS_IN_SYSTEM': 0.0,\n",
       "  'JOBS_SIGNED_ON': 0,\n",
       "  'JOBS_DISCONNECTED': 0,\n",
       "  'JOBS_SUSPENDED_BY_SYSREQ': 0,\n",
       "  'JOBS_SUSPENDED_BY_GROUP_JOB': 0,\n",
       "  'JOBS_PRINT_WAITING': 2,\n",
       "  'BATCH_RUNNING': 84,\n",
       "  'BATCH_WAITING_TO_RUN': 0,\n",
       "  'BATCH_ENDING': 0,\n",
       "  'BATCH_MESSAGE_WAIT': 0,\n",
       "  'BATCH_HELD_WHILE_RUNNING': 0,\n",
       "  'BATCH_HELD_ON_JOBQ': 0,\n",
       "  'BATCH_ON_HELD_JOBQ': 0,\n",
       "  'BATCH_ON_UNASSIGNED_JOBQ': 0,\n",
       "  'BATCH_PRINT_WAITING': 10,\n",
       "  'ELAPSED_TIME': 0,\n",
       "  'ELAPSED_CPU_USED': 0.0,\n",
       "  'ELAPSED_CPU_UNCAPPED_CAPACITY': 0.0,\n",
       "  'CONFIGURED_CPUS': 2,\n",
       "  'CPU_SHARING_ATTRIBUTE': 'UNCAPPED',\n",
       "  'CURRENT_CPU_CAPACITY': 0.5,\n",
       "  'AVERAGE_CPU_RATE': 0.0,\n",
       "  'AVERAGE_CPU_UTILIZATION': 0.0,\n",
       "  'MINIMUM_CPU_UTILIZATION': 0.0,\n",
       "  'MAXIMUM_CPU_UTILIZATION': 0.0,\n",
       "  'MAIN_STORAGE_SIZE': 66510848,\n",
       "  'SYSTEM_ASP_STORAGE': 209976,\n",
       "  'TOTAL_AUXILIARY_STORAGE': 209976,\n",
       "  'SYSTEM_ASP_USED': 22.41,\n",
       "  'CURRENT_TEMPORARY_STORAGE': 5899,\n",
       "  'MAXIMUM_TEMPORARY_STORAGE_USED': 19203,\n",
       "  'PERMANENT_ADDRESS_RATE': 0.007,\n",
       "  'TEMPORARY_ADDRESS_RATE': 0.009,\n",
       "  'TEMPORARY_256MB_SEGMENTS': 0.0,\n",
       "  'TEMPORARY_4GB_SEGMENTS': 0.0,\n",
       "  'PERMANENT_256MB_SEGMENTS': 0.0,\n",
       "  'PERMANENT_4GB_SEGMENTS': 0.0,\n",
       "  'TEMPORARY_JOB_STRUCTURES_AVAILABLE': 635,\n",
       "  'PERMANENT_JOB_STRUCTURES_AVAILABLE': 2345,\n",
       "  'TOTAL_JOB_TABLE_ENTRIES': 2579,\n",
       "  'AVAILABLE_JOB_TABLE_ENTRIES': 2345,\n",
       "  'IN_USE_JOB_TABLE_ENTRIES': 233,\n",
       "  'ACTIVE_JOB_TABLE_ENTRIES': 207,\n",
       "  'JOBQ_JOB_TABLE_ENTRIES': 0,\n",
       "  'OUTQ_JOB_TABLE_ENTRIES': 24,\n",
       "  'JOBLOG_PENDING_JOB_TABLE_ENTRIES': 2,\n",
       "  'HOST_NAME': 'UT24P60',\n",
       "  'PARTITION_ID': 60,\n",
       "  'NUMBER_OF_PARTITIONS': 72,\n",
       "  'ACTIVE_THREADS_IN_SYSTEM': 977,\n",
       "  'RESTRICTED_STATE': 'NO',\n",
       "  'PARTITION_NAME': 'ut24p60',\n",
       "  'PARTITION_GROUP_ID': 32828,\n",
       "  'SHARED_PROCESSOR_POOL_ID': 0,\n",
       "  'DEFINED_MEMORY': 65536,\n",
       "  'MINIMUM_MEMORY': 32768,\n",
       "  'MAXIMUM_MEMORY': 131072,\n",
       "  'MEMORY_INCREMENT': 256,\n",
       "  'DEDICATED_PROCESSORS': 'NO',\n",
       "  'PHYSICAL_PROCESSORS': 176,\n",
       "  'PHYSICAL_PROCESSORS_SHARED_POOL': 175,\n",
       "  'MAXIMUM_PHYSICAL_PROCESSORS': 176,\n",
       "  'DEFINED_VIRTUAL_PROCESSORS': 2,\n",
       "  'VIRTUAL_PROCESSORS': 2,\n",
       "  'MINIMUM_VIRTUAL_PROCESSORS': 1,\n",
       "  'MAXIMUM_VIRTUAL_PROCESSORS': 4,\n",
       "  'DEFINED_PROCESSING_CAPACITY': 0.5,\n",
       "  'PROCESSING_CAPACITY': 0.5,\n",
       "  'UNALLOCATED_PROCESSING_CAPACITY': 0.0,\n",
       "  'MINIMUM_REQUIRED_PROCESSING_CAPACITY': 0.1,\n",
       "  'MAXIMUM_LICENSED_PROCESSING_CAPACITY': 176.0,\n",
       "  'MINIMUM_PROCESSING_CAPACITY': 0.1,\n",
       "  'MAXIMUM_PROCESSING_CAPACITY': 2.0,\n",
       "  'PROCESSING_CAPACITY_INCREMENT': 0.01,\n",
       "  'DEFINED_INTERACTIVE_CAPACITY': 0.0,\n",
       "  'INTERACTIVE_CAPACITY': 0.0,\n",
       "  'INTERACTIVE_THRESHOLD': 100.0,\n",
       "  'UNALLOCATED_INTERACTIVE_CAPACITY': 0.0,\n",
       "  'MINIMUM_INTERACTIVE_CAPACITY': 0.0,\n",
       "  'MAXIMUM_INTERACTIVE_CAPACITY': 0.0,\n",
       "  'DEFINED_VARIABLE_CAPACITY_WEIGHT': 128,\n",
       "  'VARIABLE_CAPACITY_WEIGHT': 128,\n",
       "  'UNALLOCATED_VARIABLE_CAPACITY_WEIGHT': 0,\n",
       "  'HARDWARE_MULTITHREADING': 'YES',\n",
       "  'BOUND_HARDWARE_THREADS': 'YES',\n",
       "  'THREADS_PER_PROCESSOR': 8,\n",
       "  'DISPATCH_LATENCY': 15000000,\n",
       "  'DISPATCH_WHEEL_ROTATION_TIME': 10000000,\n",
       "  'TOTAL_CPU_TIME': 3484402000000,\n",
       "  'INTERACTIVE_CPU_TIME': 18000000,\n",
       "  'INTERACTIVE_CPU_TIME_ABOVE_THRESHOLD': 0,\n",
       "  'MACHINE_TYPE': '9080',\n",
       "  'MACHINE_MODEL': 'M9S',\n",
       "  'SERIAL_NUMBER': '13073E8',\n",
       "  'ATTENTION_LIGHT': 'OFF',\n",
       "  'IPL_MODE': 'NORMAL',\n",
       "  'IPL_TYPE': 'B',\n",
       "  'JOURNAL_RECOVERY_COUNT': 250000,\n",
       "  'JOURNAL_CACHE_WAIT_TIME': 30}]"
      ]
     },
     "execution_count": 3,
     "metadata": {},
     "output_type": "execute_result"
    }
   ],
   "source": [
    "def spawn_and_execute(sql, rows = None, conn=CONNECTION_DETAILS):\n",
    "    job = SQLJob(client)\n",
    "    job.connect()\n",
    "    res = job.query(sql, rows)\n",
    "    job.close()\n",
    "    return res\n",
    "\n",
    "sys_stats = \"SELECT * FROM TABLE(QSYS2.SYSTEM_STATUS(RESET_STATISTICS=>'YES',DETAILED_INFO=>'ALL')) X\"\n",
    "stats = spawn_and_execute(sys_stats)\n",
    "stats"
   ]
  },
  {
   "cell_type": "code",
   "execution_count": 4,
   "metadata": {},
   "outputs": [
    {
     "data": {
      "text/plain": [
       "[{'COLUMN_NAME': 'SRCSEQ',\n",
       "  'TABLE_NAME': 'QS36PRC',\n",
       "  'TABLE_OWNER': 'QSYS',\n",
       "  'ORDINAL_POSITION': 1,\n",
       "  'DATA_TYPE': 'NUMERIC',\n",
       "  'LENGTH': 6,\n",
       "  'NUMERIC_SCALE': 2,\n",
       "  'IS_NULLABLE': 'N',\n",
       "  'IS_UPDATABLE': 'Y',\n",
       "  'HAS_DEFAULT': 'Y',\n",
       "  'STORAGE': 6,\n",
       "  'NUMERIC_PRECISION': 6,\n",
       "  'TABLE_SCHEMA': '#CGULIB',\n",
       "  'COLUMN_DEFAULT': '0',\n",
       "  'NUMERIC_PRECISION_RADIX': 10,\n",
       "  'SYSTEM_COLUMN_NAME': 'SRCSEQ',\n",
       "  'SYSTEM_TABLE_NAME': 'QS36PRC',\n",
       "  'SYSTEM_TABLE_SCHEMA': '#CGULIB',\n",
       "  'IS_IDENTITY': 'NO',\n",
       "  'HIDDEN': 'N',\n",
       "  'HAS_FLDPROC': 'N'},\n",
       " {'COLUMN_NAME': 'SRCDAT',\n",
       "  'TABLE_NAME': 'QS36PRC',\n",
       "  'TABLE_OWNER': 'QSYS',\n",
       "  'ORDINAL_POSITION': 2,\n",
       "  'DATA_TYPE': 'NUMERIC',\n",
       "  'LENGTH': 6,\n",
       "  'NUMERIC_SCALE': 0,\n",
       "  'IS_NULLABLE': 'N',\n",
       "  'IS_UPDATABLE': 'Y',\n",
       "  'HAS_DEFAULT': 'Y',\n",
       "  'STORAGE': 6,\n",
       "  'NUMERIC_PRECISION': 6,\n",
       "  'TABLE_SCHEMA': '#CGULIB',\n",
       "  'COLUMN_DEFAULT': '0',\n",
       "  'NUMERIC_PRECISION_RADIX': 10,\n",
       "  'SYSTEM_COLUMN_NAME': 'SRCDAT',\n",
       "  'SYSTEM_TABLE_NAME': 'QS36PRC',\n",
       "  'SYSTEM_TABLE_SCHEMA': '#CGULIB',\n",
       "  'IS_IDENTITY': 'NO',\n",
       "  'HIDDEN': 'N',\n",
       "  'HAS_FLDPROC': 'N'}]"
      ]
     },
     "execution_count": 4,
     "metadata": {},
     "output_type": "execute_result"
    },
    {
     "name": "stderr",
     "output_type": "stream",
     "text": [
      "Socket exception: An existing connection was forcibly closed by the remote host (10054)\n"
     ]
    },
    {
     "ename": "",
     "evalue": "",
     "output_type": "error",
     "traceback": [
      "\u001b[1;31mThe Kernel crashed while executing code in the the current cell or a previous cell. Please review the code in the cell(s) to identify a possible cause of the failure. Click <a href='https://aka.ms/vscodeJupyterKernelCrash'>here</a> for more info. View Jupyter <a href='command:jupyter.viewOutput'>log</a> for further details."
     ]
    }
   ],
   "source": [
    "spawn_and_execute(\"SELECT * FROM QSYS2.SYSCOLUMNS\", 2)"
   ]
  },
  {
   "cell_type": "code",
   "execution_count": null,
   "metadata": {},
   "outputs": [],
   "source": []
  }
 ],
 "metadata": {
  "kernelspec": {
   "display_name": "idb",
   "language": "python",
   "name": "python3"
  },
  "language_info": {
   "codemirror_mode": {
    "name": "ipython",
    "version": 3
   },
   "file_extension": ".py",
   "mimetype": "text/x-python",
   "name": "python",
   "nbconvert_exporter": "python",
   "pygments_lexer": "ipython3",
   "version": "3.11.3"
  },
  "orig_nbformat": 4
 },
 "nbformat": 4,
 "nbformat_minor": 2
}
